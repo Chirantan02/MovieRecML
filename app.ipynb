{
  "nbformat": 4,
  "nbformat_minor": 0,
  "metadata": {
    "colab": {
      "provenance": [],
      "gpuType": "T4",
      "authorship_tag": "ABX9TyPVRsFfHm1mOaBha6S++mZY",
      "include_colab_link": true
    },
    "kernelspec": {
      "name": "python3",
      "display_name": "Python 3"
    },
    "language_info": {
      "name": "python"
    },
    "accelerator": "GPU"
  },
  "cells": [
    {
      "cell_type": "markdown",
      "metadata": {
        "id": "view-in-github",
        "colab_type": "text"
      },
      "source": [
        "<a href=\"https://colab.research.google.com/github/Chirantan02/MovieRecML/blob/main/app.ipynb\" target=\"_parent\"><img src=\"https://colab.research.google.com/assets/colab-badge.svg\" alt=\"Open In Colab\"/></a>"
      ]
    },
    {
      "cell_type": "markdown",
      "source": [
        "### Basics"
      ],
      "metadata": {
        "id": "zJCGKFCLr4NG"
      }
    },
    {
      "cell_type": "markdown",
      "source": [
        "## Requirements"
      ],
      "metadata": {
        "id": "skTWg_B4slRK"
      }
    },
    {
      "cell_type": "code",
      "source": [
        "!pip install -U sentence-transformers\n",
        "#import SentenceTransformer\n",
        "from sentence_transformers import SentenceTransformer\n",
        "from sklearn.metrics.pairwise import cosine_similarity\n",
        "from sklearn.preprocessing import normalize\n",
        "from google.colab import drive\n",
        "from tqdm.notebook import tqdm\n",
        "from tqdm import tqdm\n",
        "import pandas as pd\n",
        "import re\n",
        "\n",
        "\n",
        "# Mount Google Drive\n",
        "drive.mount('/content/drive')\n",
        "\n",
        "# Specify the full path to the CSV file in Google Drive\n",
        "file_path = '/content/drive/MyDrive/combined_data.csv'\n",
        "\n",
        "# Load the data\n",
        "data = pd.read_csv(file_path)"
      ],
      "metadata": {
        "id": "Bj-oyAlksrvy"
      },
      "execution_count": null,
      "outputs": []
    },
    {
      "cell_type": "markdown",
      "source": [
        "im using googe drive for importing files. i got this erorr:  File \"/mount/src/movierecml/app.py\", line 10, in <module>\n",
        "\n",
        "    drive.mount('/content/drive')\n",
        "\n",
        "NameError: name 'drive' is not defined"
      ],
      "metadata": {
        "id": "MIGmatlMsK5c"
      }
    },
    {
      "cell_type": "markdown",
      "source": [
        "## Pre-Processing"
      ],
      "metadata": {
        "id": "jMLdgbP5thvp"
      }
    },
    {
      "cell_type": "code",
      "source": [
        "def clean_text(text):\n",
        "    # Customize this function with your preferred cleaning techniques\n",
        "    text = text.lower()  # Convert to lowercase\n",
        "    text = re.sub(r\"[^a-zA-Z0-9\\s]\", \"\", text)  # Remove punctuation and special characters\n",
        "    text = re.sub(r\"\\s+\", \" \", text)  # Remove extra whitespace\n",
        "    # ... Add other cleaning steps as needed ...\n",
        "    return text\n",
        "def clean_text(text):\n",
        "    # Your text cleaning/preprocessing logic here\n",
        "    return processed_text\n",
        "\n"
      ],
      "metadata": {
        "id": "P2HX7a83toQX"
      },
      "execution_count": 12,
      "outputs": []
    },
    {
      "cell_type": "code",
      "source": [
        "import numpy as np\n",
        "print(data)"
      ],
      "metadata": {
        "colab": {
          "base_uri": "https://localhost:8080/"
        },
        "id": "uWaeMRP3XnOg",
        "outputId": "a7dfcd46-147c-4c52-81c5-e8928b0fbfee"
      },
      "execution_count": 13,
      "outputs": [
        {
          "output_type": "stream",
          "name": "stdout",
          "text": [
            "                                title  \\\n",
            "0          Into the Night (1985 film)   \n",
            "1                Intruder (1989 film)   \n",
            "2      Invaders from Mars (1986 film)   \n",
            "3         Invasion U.S.A. (1985 film)   \n",
            "4                   The Invisible Kid   \n",
            "...                               ...   \n",
            "15833    Zack Snyder's Justice League   \n",
            "15834                  Zeros and Ones   \n",
            "15835                     Zola (film)   \n",
            "15836                       Zombies 2   \n",
            "15837                       Zombies 3   \n",
            "\n",
            "                                                   image  \\\n",
            "0      https://upload.wikimedia.org/wikipedia/en/d/d1...   \n",
            "1      https://upload.wikimedia.org/wikipedia/en/f/f7...   \n",
            "2      https://upload.wikimedia.org/wikipedia/en/3/3b...   \n",
            "3      https://upload.wikimedia.org/wikipedia/en/a/ad...   \n",
            "4      https://upload.wikimedia.org/wikipedia/en/f/fe...   \n",
            "...                                                  ...   \n",
            "15833  https://upload.wikimedia.org/wikipedia/en/6/60...   \n",
            "15834  https://upload.wikimedia.org/wikipedia/en/0/08...   \n",
            "15835  https://upload.wikimedia.org/wikipedia/en/b/b4...   \n",
            "15836  https://upload.wikimedia.org/wikipedia/en/1/15...   \n",
            "15837  https://upload.wikimedia.org/wikipedia/en/f/fb...   \n",
            "\n",
            "                                                    plot  \n",
            "0      Upon discovering that his wife is having an af...  \n",
            "1      A supermarket closes and the workers begin res...  \n",
            "2      George Gardner encourages his 12-year-old son ...  \n",
            "3      A group of Cuban refugees is on a boat sailing...  \n",
            "4      Following in his deceased father's footsteps, ...  \n",
            "...                                                  ...  \n",
            "15833  Narrative acts Part 1: \"Don't Count on It, Bat...  \n",
            "15834  \"...an American soldier-for-hire (Ethan Hawke)...  \n",
            "15835  Aziah \"Zola\" King, a self-assured waitress and...  \n",
            "15836  Prior to the founding of Seabrook, settlers fo...  \n",
            "15837  In the town of Seabrook, werewolves, humans an...  \n",
            "\n",
            "[15838 rows x 3 columns]\n"
          ]
        }
      ]
    },
    {
      "cell_type": "markdown",
      "source": [
        "# Model 1 - stsb-distilbert-base"
      ],
      "metadata": {
        "id": "EgV0m5FftxA3"
      }
    },
    {
      "cell_type": "code",
      "source": [
        "# # Load a different sentence embedding model\n",
        "\n",
        "# model = SentenceTransformer('all-mpnet-base-v2')\n",
        "# #model = SentenceTransformer('/content/drive/MyDrive/saved_models')\n",
        "\n",
        "# # Encode plot descriptions to vectors\n",
        "# plot_descriptions = data['plot'].tolist()\n",
        "\n",
        "# # Set batch size\n",
        "# batch_size = 1000\n",
        "\n",
        "# # Initialize an empty list to store embeddings\n",
        "# plot_embeddings = []\n",
        "\n",
        "# # Use tqdm to display progress bar\n",
        "# for i in tqdm(range(0, len(plot_descriptions), batch_size), desc='Encoding plot descriptions'):\n",
        "#     batch = plot_descriptions[i:i + batch_size]\n",
        "#     embeddings_batch = model.encode(batch)\n",
        "#     plot_embeddings.extend(embeddings_batch)\n",
        "\n",
        "# plot_embeddings_np = np.array(plot_embeddings)\n",
        "\n",
        "# #model.save(/content/drive/MyDrive/saved_models2)"
      ],
      "metadata": {
        "id": "Qv8LQLhStyjx"
      },
      "execution_count": 14,
      "outputs": []
    },
    {
      "cell_type": "code",
      "source": [
        "#np.save('/content/drive/MyDrive/saved_embeddings', plot_embeddings_np)\n",
        "# Add the embeddings to the DataFrame\n",
        "model = SentenceTransformer('/content/drive/MyDrive/saved_models')\n",
        "# Load the saved embeddings\n",
        "plot_embeddings_np = np.load('/content/drive/MyDrive/saved_embeddings.npy')\n",
        "\n",
        "# Add the embeddings to the DataFrame\n",
        "data['plot_embedding'] = list(plot_embeddings_np)\n",
        "#data['plot_embedding'] = plot_embeddings\n"
      ],
      "metadata": {
        "id": "O2HxV3BFhiMB"
      },
      "execution_count": 15,
      "outputs": []
    },
    {
      "cell_type": "code",
      "source": [
        "\n",
        "def recommend_movies(user_input, num_recommendations=10):\n",
        "    # Encode user input\n",
        "    user_embedding = model.encode([user_input])[0]\n",
        "\n",
        "    # Compute cosine similarity between user input and plot descriptions\n",
        "    similarities = cosine_similarity([user_embedding], plot_embeddings_np)[0]\n",
        "\n",
        "    # Get indices of the most similar movies\n",
        "    indices = similarities.argsort()[-num_recommendations:][::-1]\n",
        "\n",
        "    # Display recommended movies\n",
        "    recommendations = data.loc[indices, ['title', 'plot', 'image']]\n",
        "    return recommendations"
      ],
      "metadata": {
        "id": "csLbhFpNdeK5"
      },
      "execution_count": 16,
      "outputs": []
    },
    {
      "cell_type": "code",
      "source": [
        "from google.colab import drive\n",
        "drive.mount('/content/drive')\n",
        "#model.save('/content/drive/MyDrive/saved_models')"
      ],
      "metadata": {
        "colab": {
          "base_uri": "https://localhost:8080/"
        },
        "id": "JeYGgCeyazr-",
        "outputId": "45198b19-6929-4f2f-a201-6a80f99eed08"
      },
      "execution_count": 17,
      "outputs": [
        {
          "output_type": "stream",
          "name": "stdout",
          "text": [
            "Drive already mounted at /content/drive; to attempt to forcibly remount, call drive.mount(\"/content/drive\", force_remount=True).\n"
          ]
        }
      ]
    },
    {
      "cell_type": "code",
      "source": [
        "# User input\n",
        "\n",
        "user_input = input(\"Describe the kind of movie you want to watch: \")\n",
        "\n",
        "# Get recommendations based on user input\n",
        "recommendations = recommend_movies(user_input)\n",
        "\n",
        "# Display recommended movies with images\n",
        "print(\"\\nRecommended Movies:\")\n",
        "for i, (title, plot, image) in recommendations.iterrows():\n",
        "    print(f\"\\nTitle: {title}\\nPlot: {plot}\\nImage: {image}\\n\")\n",
        "\n",
        "    # Display image using the provided link\n",
        "    from IPython.display import Image, display\n",
        "    display(Image(url=image))\n",
        "\n",
        "\n",
        "\n",
        "\n",
        "\n",
        "\n"
      ],
      "metadata": {
        "id": "BCKTH2h2uQE4",
        "colab": {
          "base_uri": "https://localhost:8080/",
          "height": 1000
        },
        "outputId": "5cb8f285-f160-4fb1-c54e-d12bd4f0eef4"
      },
      "execution_count": 18,
      "outputs": [
        {
          "output_type": "stream",
          "name": "stdout",
          "text": [
            "Describe the kind of movie you want to watch: ghost on a bike\n",
            "\n",
            "Recommended Movies:\n",
            "\n",
            "Title: Apparitional (film)\n",
            "Plot: A ghost hunting crew from Los Angeles, California is told by their boss, Ms. Simon, that if they are not able to better their ratings, their show, Ghost Sightings will be cancelled.  The crew is visited by a man named Mr. Gaffney, who tells the leader of the crew, Joel, that he knows of property back home where he fears evil spirits haunt the halls and attack humans. Mr. Gaffney asks them to get rid of the ghosts, though Joel tries to explain to him that they only investigate them and getting rid of ghosts is much more difficult.  The crew travels to the area and they stop at a restaurant before heading to the haunted location, which is revealed to be an abandoned prison.  Once at the prison, they are given a tour by Clive, a former worker. He also warns the crew to leave and not to proceed with their investigation. Clive tells them the story of a prisoner escaping from his cell and murdering another inmate by snapping his neck before biting off flesh.  Clive then takes the crew down to the infirmary where he tells the story of a doctor who paralyzed his inmate patients and then performed illegal experiments on them in hopes to fix their psyche. He explains that the legend says the doctor was eventually sent to prison himself and was killed by the inmates.  The crew then begins their overnight investigation of the prison. When investigating the cell block, Roger is attacked by the ghost of a former prisoner. The ghost possesses Roger's body and creates large gashes and bruises on the side of his head. Berger and Joel rush Roger back to the video control room with Kate and decide to leave the prison, but discover that they are chain-locked in. They bandage up Roger, but realize that they don't have enough medical supplies, so they decide to go to the infirmary, where Berger is also attacked by ghosts and taken away.  Joel goes back to Kate and they decide it's best to go look for Berger, then come back for Roger. Kate is attacked by ghosts while searching for Berger in the cell block, but escapes by using a new device Roger purchased that disrupts ghost energy. The ghost possesses Roger's body, cornering Kate and Joel on the third floor of the prison. The ghosts want the crew to bring them the doctor who tortured them. Joel and Kate try to tell the ghost that the doctor had been killed, but the ghost ignores them. Roger fights internally with the ghost and is able to speak with Joel and Kate, telling them that he can't have them hurt on his watch and ultimately hangs himself.  After mourning the loss of Roger, Joel and Kate begin their search for Berger again, finding him near the entryway. He tells Joel and Kate that he may have found a second way out. They follow Berger to an area of the grounds outside the prison, though still fenced in. Kate is able to find a signal on her cell phone out there and calls the police.  The next morning, the crew is let out of the prison and confronts Clive for locking them inside, but he insists it was not him. After the paramedics and police leave the area, the crew calls in Mr. Gaffney and asks him to come inside the prison to see if he notices any difference in the energy. He walks inside and explains that it felt different from the time he worked there.  It is revealed that Mr. Gaffney was in the fact the doctor who tortured and sexually molested the inmates. He then begins to get angry at Joel and Kate when they explain that they did not get rid of the ghosts. After the confrontation, Joel and Kate trick Mr. Gaffney, locking him inside the prison, where the ghosts are seen dragging him away from the doors. Joel, Kate, and Berger drive back to Los Angeles and vow to end the Ghost Sightings series.\n",
            "Image: https://upload.wikimedia.org/wikipedia/en/4/40/Apparitional_movie_poster.jpg\n",
            "\n"
          ]
        },
        {
          "output_type": "display_data",
          "data": {
            "text/html": [
              "<img src=\"https://upload.wikimedia.org/wikipedia/en/4/40/Apparitional_movie_poster.jpg\"/>"
            ],
            "text/plain": [
              "<IPython.core.display.Image object>"
            ]
          },
          "metadata": {}
        },
        {
          "output_type": "stream",
          "name": "stdout",
          "text": [
            "\n",
            "Title: The Presence (film)\n",
            "Plot: A young woman (Mira Sorvino) arrives at a cabin in an isolated forest in a small island inhabited by the apparition of a man (Shane West) whom she cannot see or hear, and who cannot leave the cabin. The Ghost, although undisturbed, is curious about her and starts watching her, something that she starts to perceive faintly.  After a few days, her boyfriend (Justin Kirk) joins her unannounced and, although surprised, she happily shows him around. She brings him to an elevated spot with a broad view of the area that she claims was a favourite of her when she was a child. The Man suddenly proposes to her, and noticing that she is confused and full of doubt, bids her to keep the engagement ring and think about it. At that moment, he loses his balance and nearly falls off, as she rushes to pull him back to safety. The event changes her mind and she accepts his proposal; however, the ring seems to have been lost in the accident.  The same day, while the woman is busy with work and her boyfriend is cooking dinner, the Ghost perceives whispers and, watching her, notices another ghost dressed in black (Tony Curran) who sits very close to her and feeds her with ill words about her relationship, as she apparently cannot see him either but receives his words all the same. The Ghost in Black notices the other ghost and approaches him, proposing to aid him to escape his limited supernatural existence in exchange for his help. The first Ghost notices that the other one’s words affect her, turning her cold and hostile and causing her to snap to her boyfriend. Later that night, the Ghost notices the Ghost in Black sitting between the couple and talking to both in the same secret way, furthermore increasing the tension between them. The following day, the man seeks to discuss things with her, which angers her and makes her break the engagement. This causes him to be upset and decide to leave, which she says he cannot do as they can only leave the island on a boat that only comes occasionally unless summoned. He attempts to call and finds out that the cell phone is dead.  Later, the man makes ready to leave, but before he can do so he tries to look for her, and discovers that she is missing. He goes outside and remembers an opening that she had shown him upon his arrival which leads to the space underneath the cabin, into which he crawls. The woman, back in herself after reflecting on things and finding the engagement ring, returns to the cabin hoping to mend things, and finds that he packed his things but cannot determine whether he has departed. She feels the presence of the ghost and questions him about her boyfriend, to which he answers by knocking loudly and informing her that her partner has not left. She crawls into the space underneath the cabin herself and finds him lying unconscious and injured. The Ghost in Black, after threatening the other Ghost for having helped her, reveals himself to her and urges her to smash her partner’s head with a rock, which she seems resolute to do, before she stops and defies the ghost. She goes back outside to call for help, but the Ghost in Black keeps standing in her way. Before he can harm her, he notices some other presence behind him; he then turns around and screams in terror while she escapes.  She retreats into the cabin, where the first Ghost is standing still unseen. He then screams, which makes her notice him and realize that he was never against her. The third presence (Deobia Oparei) enters the cabin; it is revealed in flashbacks that this third Ghost has benignly aided the couple, both saving the man from falling off and later placing the ring for her to find. He rescues the Ghost from his existence and both disappear. Mr. Browman (Muse Watson), a townsman, appears at the door and tells her that he came because he had a feeling that something was wrong and had tried unsuccessfully to communicate with her. They bring her boyfriend out from under the house and take him away on his boat so he can receive medical assistance. As they leave, another silent presence can be seen sitting next to Mr Browman.\n",
            "Image: https://upload.wikimedia.org/wikipedia/en/9/98/ThePresenceFilm2010.jpg\n",
            "\n"
          ]
        },
        {
          "output_type": "display_data",
          "data": {
            "text/html": [
              "<img src=\"https://upload.wikimedia.org/wikipedia/en/9/98/ThePresenceFilm2010.jpg\"/>"
            ],
            "text/plain": [
              "<IPython.core.display.Image object>"
            ]
          },
          "metadata": {}
        },
        {
          "output_type": "stream",
          "name": "stdout",
          "text": [
            "\n",
            "Title: Pay the Ghost\n",
            "Plot: A professor, Mike Lawford (Nicolas Cage) frantically searches for his son Charlie, who was abducted during a Halloween carnival. As nearly a year goes by,  the parents are still looking for their son and starting to hear and see their son reaching out to them from the other world—Mike sees his son on a passing bus, but upon chasing the bus down and gaining access, his son is not there. He disembarks and notices spray painted on a building, \"pay the ghost,\" the phrase his son uttered before vanishing. He enters the building and finds homeless people living there. Unearthly screams of a woman are heard, and a blind homeless man calls for the others to mask their fires, explaining to Mike that the screams are heard every year before Halloween. Mike asks about the phrase, and is taken to a wall with more of the same phrases written on it. Engrossed by the wall and the homeless man, he does not notice the wall behind him shift into another world, and a demonic figure briefly appears behind him, then vanishes. The homeless man explains nothing, but quickly tells Mike to leave.  His wife Kristen later sees their son's scooter move on its own, and calls him. Later that night while pouring wine, the power in their home goes out. Mike looks out the window to see three children appear and burned at the stake, then turns and sees his apartment crowded with figures of children, standing lifeless and pale. They call a psychic to investigate. Standing in their son's room, she senses nothing, but then abruptly walks to the window, looks at the approaching storm, and says, \"It's here... it has all the children.\" The psychic is then thrown against the wall and strangled before collapsing, burn scars all over her hands. A later autopsy shows her internal organs were burned to ash.  Later, Mike walks upstairs to his wife's room, and she addresses him with their son's voice, pleading for help and saying \"She's coming, Dad. I'm scared.\" He walks closer, and sees his wife cutting herself. Cleaning the wound, they find a symbol, which leads them to a Celtic Halloween celebration. A participant explains that the children are burning dolls to pay the ghost, so they will not be taken. Their friend Hannah who was helping them by doing research calls Mike and says: In early New York, on Halloween night of 1679, because of her Celtic worship, a young widow living on the first New York settlement was burned alive with her three children by an angry mob of settlers suspecting her to be a witch. She takes revenge every year on Halloween, when the border between the spiritual world and the physical world dissolves for a short time. Since then, every Halloween the ghost of this woman takes three living children from their parents and puts them in an alternate world. The borders solidify until next Halloween, and the children taken are able to reach out and be rescued. But if the children cannot escape this alternate world within the first year, they are stuck in this world forever.  After Mike and Kristen are injured in the taxi by a flock of black vultures, Hannah is thrown out of a window and killed while trying to leave the institute. Mike returns to the same building and finds the blind homeless man again, he gives him his watch in exchange for helping him find his son Charlie. He shows Mike the hazy road and tells him that he has  until Halloween ends at midnight, otherwise he will be trapped there forever. Mike arrives at the widow's cabin and goes down to the basement where he finds the souls of many children who were locked up over the centuries at Halloween time. Mike finally finds Charlie along with two other children that were also taken within the last year.  While the four of them are escaping, the ghost widow appears as she has learned that they were attempting to escape. She tries to stop Mike from taking the three children away by trying to kill him. All of the other children’s souls arrive to help him, and they are able to kill the ghost widow by surrounding her, unknowingly freeing themselves into the afterlife. Mike and the children manage to get out just as the portal closes. At dawn, Mike and his son Charlie finally make it home. While reuniting with Kristen it is revealed that Charlie has no recollection of the time that he spent missing. Outside, a black vulture is seen flying away.  In a scene mid-credits, three black vultures appear surrounding Hannah's corpse and she awakens, possessed.\n",
            "Image: https://upload.wikimedia.org/wikipedia/en/b/b8/Pay_The_Ghost_Poster.jpg\n",
            "\n"
          ]
        },
        {
          "output_type": "display_data",
          "data": {
            "text/html": [
              "<img src=\"https://upload.wikimedia.org/wikipedia/en/b/b8/Pay_The_Ghost_Poster.jpg\"/>"
            ],
            "text/plain": [
              "<IPython.core.display.Image object>"
            ]
          },
          "metadata": {}
        },
        {
          "output_type": "stream",
          "name": "stdout",
          "text": [
            "\n",
            "Title: I Downloaded a Ghost\n",
            "Plot: Stella Blackstone (Elliot Page) and her best friend Albert (Michael Kanev) are twelve-year-olds with ambitious intentions of creating an extremely spooky Halloween house. While checking for hints online they open up a web link that opens a doorway through which an annoying ghost (Carlos Alazraqui) leaves his world and enters theirs. They find they must help this ghost resolve his problems or put up with him forever.\n",
            "Image: https://upload.wikimedia.org/wikipedia/en/9/90/I_Downloaded_a_Ghost.jpg\n",
            "\n"
          ]
        },
        {
          "output_type": "display_data",
          "data": {
            "text/html": [
              "<img src=\"https://upload.wikimedia.org/wikipedia/en/9/90/I_Downloaded_a_Ghost.jpg\"/>"
            ],
            "text/plain": [
              "<IPython.core.display.Image object>"
            ]
          },
          "metadata": {}
        },
        {
          "output_type": "stream",
          "name": "stdout",
          "text": [
            "\n",
            "Title: Thirteen Ghosts\n",
            "Plot: Ghost hunter Cyrus Kriticos and his psychic assistant Dennis Rafkin lead a team on a mission to capture a spirit called the Juggernaut. Several men, including Cyrus, are killed while the team is able to catch the ghost. Cyrus's nephew Arthur, a widower, is informed by Cyrus's estate lawyer, Ben Moss, that he has inherited Cyrus' mansion. Financially insecure, Arthur decides to move there with his two children, Kathy and Bobby, and their nanny, Maggie.  Dennis meets the family as they tour the mansion. The residence is made entirely of glass sheets inscribed with Latin phrases, which Dennis recognizes as barrier spells. He discovers that the twelve angry ghosts he and Cyrus captured are imprisoned in the house, held captive by the spells. As he warns Arthur, Moss unwittingly triggers a mechanism that seals the house and releases the ghosts. Moss dies when a set of sliding doors cut him in half. Bobby sees several of the ghosts, including the Withered Lover -- his mother Jean, who had died of injuries sustained in a house fire. He is knocked unconscious and dragged away.  Dennis uses a pair of spectral glasses that allow the wearer to see the supernatural realm to avoid the ghosts. The Jackal, one of the most dangerous ghosts, attacks Kathy and Arthur but they are saved by Kalina Oretzia, a spirit liberator who is attempting to free the ghosts. Kathy disappears. The four adults gather in the library where Arthur learns that Jean's ghost is also in the house. Kalina explains that the house is a machine, powered by the captive ghosts, that allows its user to see the past, present, and future. The only way to shut it down is through the creation of a thirteenth ghost from a sacrifice of love. Arthur realizes that he must become that ghost to save his children.  Armed with the spectral glasses, Arthur and Dennis enter the basement to find the children. Dennis barricades Arthur behind a glass sheet for his protection. Dennis is then beaten to death by the Hammer and the Juggernaut, two other dangerous ghosts. It is revealed that Cyrus faked his death to lure Arthur to the house; Kalina is his partner, revealed when she knocks Maggie unconscious with a large book and promptly kisses Cyrus upon his arrival. Cyrus has orchestrated the abduction of Kathy and Bobby so that Arthur will become the thirteenth ghost, which will not stop the machine as Kalina had claimed, but trigger its activation. Cyrus kills Kalina, who objected to Cyrus putting the children in danger, and summons the ghosts to activate the machine.  In the main hall, Arthur witnesses all twelve ghosts orbiting a clockwork device of rotating metal rings, with his children at the center. He fights Cyrus while Maggie disrupts the machine's controls, releasing the ghosts from its power and causing the machine to go haywire. The ghosts hurl Cyrus into the moving rings, slicing him to pieces. With the encouragement of Dennis' ghost, Arthur jumps through the machine safely to protect his children. The walls of the house shatter as the malfunctioning machine rips itself apart, freeing the ghosts. Jean's ghost tells them she loves them before she disappears.  As the family departs from the house, Maggie angrily declares that she is quitting as their nanny.\n",
            "Image: https://upload.wikimedia.org/wikipedia/en/7/7d/Thir13en_Ghosts_poster.JPG\n",
            "\n"
          ]
        },
        {
          "output_type": "display_data",
          "data": {
            "text/html": [
              "<img src=\"https://upload.wikimedia.org/wikipedia/en/7/7d/Thir13en_Ghosts_poster.JPG\"/>"
            ],
            "text/plain": [
              "<IPython.core.display.Image object>"
            ]
          },
          "metadata": {}
        },
        {
          "output_type": "stream",
          "name": "stdout",
          "text": [
            "\n",
            "Title: Pumpkinhead (film)\n",
            "Plot: In 1957, Tom Harley waits inside his farm cabin with his wife and his son, Ed. A doomed man seeks sanctuary at Tom's cabin, but Tom refuses and threatens to shoot him if he does not leave. Watching through a window, Ed witnesses the man caught and killed by a monster.  In the present, Ed Harley is a widowed father and owns a small store in the country. He leaves his young son, Billy, alone while he runs an errand. A group of teenage campers stop by at Harley's, and, while riding their dirt bikes, they mortally injure Billy. One teen, Steve, stays with the boy until his father's return; the rest flee the scene. At their cabin, the campers fight about whether or not to call the police. Joel, who is personally responsible for the boy's injury and is on probation for a similar incident, rips out the phone cord, knocks one of his friends unconscious and locks him and a girl in the closet to stop them from contacting the authorities.  Ed goes to see a witch and offers her gold, but she says that she cannot wake the dead. Instead, Ed says that he wants revenge; the witch agrees to help, but warns him that vengeance comes with a terrible price. On her orders, Ed goes to an old graveyard in the mountains, digs up a corpse, and brings it back to the witch's home. The witch uses blood from father and son to resurrect the corpse, which rises as a gigantic, spindly demonic monster referred to as \"Pumpkinhead\" by the locals.  Back at the cabin, Joel begins to experience remorse for his actions and decides to turn himself in to the police. The monster, however, has already arrived. One of the girls, Maggie, hears a voice whispering her name. Seemingly hypnotized, she follows the voice outside the cabin. Steve brings her out of her trance, but Pumpkinhead kills him. Ed experiences the murder through the monster's eyes. While the campers search for Steve, Pumpkinhead drags away Maggie, and Ed again experiences the ensuing murder. He returns to the witch and begs her to stop the monster's actions. The witch, however, tells him that nobody can stop Pumpkinhead and Ed will die if he interferes with the killing spree.  Joel confronts Pumpkinhead with a machete, but it swats him aside and drags Kim away, whom it drops from a fatal height. The three remaining campers unsuccessfully beg the locals for help. Ed arrives and shoots Pumpkinhead, but when Joel checks to see if the creature is still alive, it grabs a fallen rifle and impales him with it. A local boy, Bunt, helps the two remaining campers, Tracey and Chris, reach an abandoned church. Bunt relates the legend of the monster Pumpkinhead, explaining that the monster avenges one who was wronged. If anyone tries to stop Pumpkinhead or help his victims, that person becomes marked, too. Chris's dirt bike fails to start after Pumpkinhead removes the drive chain; he lifts up the bike, with Chris still on it, and throws it against a tree. He then drags Chris back to Harley's house, where Tracey, Bunt, and Ed have taken shelter.  Pumpkinhead captures Bunt. Ed stumbles out of the barn but is accidentally stabbed in the arm by a pitchfork. Both Ed and Pumpkinhead cry out in pain, and Pumpkinhead releases Bunt. Ed notices that Pumpkinhead's head is turning more human as Ed himself appears more monstrous, then realizes that he and Pumpkinhead are one; the only way for Ed to kill the monster is to die himself.  Pumpkinhead grabs Tracey by the neck, but before he can kill her, Ed shoots himself in the head. Pumpkinhead momentarily collapses to the ground, then grabs Bunt again. Tracey takes the gun and Ed begs her to finish him off. Ed, now fully metamorphosed, appears to menace Tracey. She shoots him until both he and Pumpkinhead fall to the ground dead. Tracey, Bunt, and Chris then watch as Pumpkinhead bursts into flames. Later that night, the witch buries Ed in Pumpkinhead's grave, ready to wait for the next person seeking revenge, and still wearing the necklace his son Billy made him.\n",
            "Image: https://upload.wikimedia.org/wikipedia/en/8/80/Pumpkinhead.jpg\n",
            "\n"
          ]
        },
        {
          "output_type": "display_data",
          "data": {
            "text/html": [
              "<img src=\"https://upload.wikimedia.org/wikipedia/en/8/80/Pumpkinhead.jpg\"/>"
            ],
            "text/plain": [
              "<IPython.core.display.Image object>"
            ]
          },
          "metadata": {}
        },
        {
          "output_type": "stream",
          "name": "stdout",
          "text": [
            "\n",
            "Title: Lights Out (2013 film)\n",
            "Plot: On a dark and rainy night, a woman (Lotta Losten) comes out of a room and turns off the hallway light, which causes a long-haired, humanlike silhouette to become visible at the other end of the hallway. Surprised, the woman turns the light back on and the silhouette vanishes. Switching the light off and on, she watches the silhouette appear and disappear, stopping when the silhouette suddenly moves so close it is inches away from her face. Gasping, she turns the light back on and tapes the switch in that position to prevent the silhouette from returning.  The woman goes to bed, leaving the lamp on her bedside table on and the door leading to the lit hallway ajar. She hears creaking sounds and looks towards the doorway. The hallway light starts flickering and eventually turns off. Scared, she hears footsteps approaching the bedroom and hides under the blanket. After a few seconds of silence, she peeks out. The door opens wider by itself, which terrifies the woman.  The lamp flickers. From under the blanket, the woman looks towards the power strip it is plugged in to. She nervously reaches out, locates the plug, and pushes it in more firmly. The flickering stops. The hallway light clicks back on and she sees it is on again and the door is only slightly ajar again. She is relieved, but unfortunately suddenly sees a monstrous humanoid with all-white eyes and an open mouth at her bedside table. The monster turns off the lamp, and the screen goes dark.\n",
            "Image: https://upload.wikimedia.org/wikipedia/en/6/61/Lights_Out_%282013_film%29_poster.jpg\n",
            "\n"
          ]
        },
        {
          "output_type": "display_data",
          "data": {
            "text/html": [
              "<img src=\"https://upload.wikimedia.org/wikipedia/en/6/61/Lights_Out_%282013_film%29_poster.jpg\"/>"
            ],
            "text/plain": [
              "<IPython.core.display.Image object>"
            ]
          },
          "metadata": {}
        },
        {
          "output_type": "stream",
          "name": "stdout",
          "text": [
            "\n",
            "Title: Sightings: Heartland Ghost\n",
            "Plot: In this creepy ghost story, a Kansas couple's claim that their Victorian house is haunted prompts a visit from the crew of \"Sightings\", a TV show exploring paranormal events. Nobody believes the couple's story - especially cynical producer Derek (Beau Bridges), but show psychic Allen (Miguel Ferrer) begins feeling the presence of several entities, including a little girl.\n",
            "Image: https://upload.wikimedia.org/wikipedia/commons/e/ed/Horrorfilm.png\n",
            "\n"
          ]
        },
        {
          "output_type": "display_data",
          "data": {
            "text/html": [
              "<img src=\"https://upload.wikimedia.org/wikipedia/commons/e/ed/Horrorfilm.png\"/>"
            ],
            "text/plain": [
              "<IPython.core.display.Image object>"
            ]
          },
          "metadata": {}
        },
        {
          "output_type": "stream",
          "name": "stdout",
          "text": [
            "\n",
            "Title: The Other Side of the Tracks\n",
            "Plot: Ten years after a tragic train accident killed his girlfriend, Josh finds himself haunted by disturbing visions from somewhere between the world of the living and the dead—haunting memories that keep him from moving on. His buddy, back in town for their high school reunion, tries to wake Josh from his painful past, but a mysterious young waitress offers a seductive alternative.\n",
            "Image: https://upload.wikimedia.org/wikipedia/en/9/93/OSTOneSheetBlue.jpg\n",
            "\n"
          ]
        },
        {
          "output_type": "display_data",
          "data": {
            "text/html": [
              "<img src=\"https://upload.wikimedia.org/wikipedia/en/9/93/OSTOneSheetBlue.jpg\"/>"
            ],
            "text/plain": [
              "<IPython.core.display.Image object>"
            ]
          },
          "metadata": {}
        },
        {
          "output_type": "stream",
          "name": "stdout",
          "text": [
            "\n",
            "Title: Lace Crater\n",
            "Plot: An awkward twenty-something begins to go through strange physical changes after a weekend tryst with a ghost.\n",
            "Image: https://upload.wikimedia.org/wikipedia/en/2/28/Lace_Crater_poster.jpg\n",
            "\n"
          ]
        },
        {
          "output_type": "display_data",
          "data": {
            "text/html": [
              "<img src=\"https://upload.wikimedia.org/wikipedia/en/2/28/Lace_Crater_poster.jpg\"/>"
            ],
            "text/plain": [
              "<IPython.core.display.Image object>"
            ]
          },
          "metadata": {}
        }
      ]
    },
    {
      "cell_type": "markdown",
      "source": [
        "Sample query: person starts a company and gets rich"
      ],
      "metadata": {
        "id": "HryYcVkZJGbv"
      }
    }
  ]
}